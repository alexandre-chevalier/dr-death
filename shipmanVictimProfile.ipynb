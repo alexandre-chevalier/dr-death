{
 "cells": [
  {
   "cell_type": "code",
   "execution_count": 16,
   "id": "bbc9b58d-92aa-4d3d-8853-e5974643578d",
   "metadata": {},
   "outputs": [
    {
     "name": "stdout",
     "output_type": "stream",
     "text": [
      "    DateofDeath                   Name  Age PlaceofDeath          Decision  \\\n",
      "0    17/03/1975              Eva Lyons   70     Own home  Unlawful killing   \n",
      "1    07/08/1978  Sarah Hannah Marsland   86     Own home  Unlawful killing   \n",
      "2    30/08/1978      Mary Ellen Jordan   73     Own home  Unlawful killing   \n",
      "3    07/12/1978        Harold Bramwell   73     Own home  Unlawful killing   \n",
      "4    20/12/1978         Annie Campbell   88     Own home  Unlawful killing   \n",
      "..          ...                    ...  ...          ...               ...   \n",
      "210  20/03/1998          Ada Warburton   77     Own home  Unlawful killing   \n",
      "211  24/03/1998          Martha Marley   88     Own home  Unlawful killing   \n",
      "212  11/05/1998        Winifred Mellor   73     Own home        Conviction   \n",
      "213  12/06/1998         Joan May Melia   73     Own home        Conviction   \n",
      "214  24/06/1998        Kathleen Grundy   81     Own home        Conviction   \n",
      "\n",
      "     yearOfDeath ageBracket  gender  \n",
      "0           1975      70-74       0  \n",
      "1           1978      85-89       0  \n",
      "2           1978      70-74       0  \n",
      "3           1978      70-74       1  \n",
      "4           1978      85-89       0  \n",
      "..           ...        ...     ...  \n",
      "210         1998      75-79       0  \n",
      "211         1998      85-89       0  \n",
      "212         1998      70-74       0  \n",
      "213         1998      70-74       0  \n",
      "214         1998      80-84       0  \n",
      "\n",
      "[215 rows x 8 columns]\n"
     ]
    }
   ],
   "source": [
    "import pandas as pd\n",
    "import matplotlib.pyplot as plt\n",
    "import seaborn as sb\n",
    "DATA_BASE =\"shipmanVictim.csv\"\n",
    "df = pd.read_csv(DATA_BASE)\n",
    "print(df)"
   ]
  },
  {
   "cell_type": "code",
   "execution_count": 21,
   "id": "7c237d6b-78d1-45dd-92e5-863ca474a96d",
   "metadata": {},
   "outputs": [],
   "source": [
    "df[\"DateofDeath\"] = pd.to_datetime(df[\"DateofDeath\"], dayfirst=True)"
   ]
  },
  {
   "cell_type": "code",
   "execution_count": 22,
   "id": "12f6c79b-6716-4dc5-a5f9-6e7230309d31",
   "metadata": {},
   "outputs": [],
   "source": [
    "df[\"gender\"] = pd.to_numeric(df[\"gender\"])"
   ]
  },
  {
   "cell_type": "code",
   "execution_count": 23,
   "id": "6ad35b77-2c84-4742-85ee-2afcf9809887",
   "metadata": {},
   "outputs": [
    {
     "data": {
      "text/plain": [
       "DateofDeath     datetime64[ns]\n",
       "Name                    object\n",
       "Age                      int64\n",
       "PlaceofDeath            object\n",
       "Decision                object\n",
       "yearOfDeath              int64\n",
       "ageBracket              object\n",
       "gender                   int64\n",
       "dtype: object"
      ]
     },
     "execution_count": 23,
     "metadata": {},
     "output_type": "execute_result"
    }
   ],
   "source": [
    "df.dtypes"
   ]
  },
  {
   "cell_type": "code",
   "execution_count": 26,
   "id": "6bc12e75-a522-426f-8a3c-cc4d9f782ea2",
   "metadata": {},
   "outputs": [
    {
     "data": {
      "text/html": [
       "<div>\n",
       "<style scoped>\n",
       "    .dataframe tbody tr th:only-of-type {\n",
       "        vertical-align: middle;\n",
       "    }\n",
       "\n",
       "    .dataframe tbody tr th {\n",
       "        vertical-align: top;\n",
       "    }\n",
       "\n",
       "    .dataframe thead th {\n",
       "        text-align: right;\n",
       "    }\n",
       "</style>\n",
       "<table border=\"1\" class=\"dataframe\">\n",
       "  <thead>\n",
       "    <tr style=\"text-align: right;\">\n",
       "      <th></th>\n",
       "      <th>Age</th>\n",
       "      <th>yearOfDeath</th>\n",
       "      <th>gender</th>\n",
       "    </tr>\n",
       "  </thead>\n",
       "  <tbody>\n",
       "    <tr>\n",
       "      <th>Age</th>\n",
       "      <td>1.000000</td>\n",
       "      <td>-0.075982</td>\n",
       "      <td>0.050190</td>\n",
       "    </tr>\n",
       "    <tr>\n",
       "      <th>yearOfDeath</th>\n",
       "      <td>-0.075982</td>\n",
       "      <td>1.000000</td>\n",
       "      <td>-0.122847</td>\n",
       "    </tr>\n",
       "    <tr>\n",
       "      <th>gender</th>\n",
       "      <td>0.050190</td>\n",
       "      <td>-0.122847</td>\n",
       "      <td>1.000000</td>\n",
       "    </tr>\n",
       "  </tbody>\n",
       "</table>\n",
       "</div>"
      ],
      "text/plain": [
       "                  Age  yearOfDeath    gender\n",
       "Age          1.000000    -0.075982  0.050190\n",
       "yearOfDeath -0.075982     1.000000 -0.122847\n",
       "gender       0.050190    -0.122847  1.000000"
      ]
     },
     "execution_count": 26,
     "metadata": {},
     "output_type": "execute_result"
    }
   ],
   "source": [
    "df.corr(numeric_only = True)"
   ]
  },
  {
   "cell_type": "code",
   "execution_count": null,
   "id": "dd597b67-28d3-42bb-aba3-d42f1419189b",
   "metadata": {},
   "outputs": [],
   "source": []
  }
 ],
 "metadata": {
  "kernelspec": {
   "display_name": "Python 3 (ipykernel)",
   "language": "python",
   "name": "python3"
  },
  "language_info": {
   "codemirror_mode": {
    "name": "ipython",
    "version": 3
   },
   "file_extension": ".py",
   "mimetype": "text/x-python",
   "name": "python",
   "nbconvert_exporter": "python",
   "pygments_lexer": "ipython3",
   "version": "3.13.2"
  }
 },
 "nbformat": 4,
 "nbformat_minor": 5
}
